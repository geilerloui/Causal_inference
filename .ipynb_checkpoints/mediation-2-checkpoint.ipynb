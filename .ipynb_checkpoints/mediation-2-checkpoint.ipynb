{
 "cells": [
  {
   "cell_type": "markdown",
   "metadata": {},
   "source": [
    "## Mediation with Bootstrapping\n",
    "\n",
    "> Our exam is predicted by previous knowledge:\n",
    "* https://www.youtube.com/watch?v=Llnvitb-uFI&t=1s"
   ]
  },
  {
   "cell_type": "code",
   "execution_count": 5,
   "metadata": {},
   "outputs": [
    {
     "data": {
      "text/plain": [
       "    previous        facebook          exam       \n",
       " Min.   :1.000   Min.   :1.750   Min.   : 1.000  \n",
       " 1st Qu.:1.000   1st Qu.:3.750   1st Qu.: 1.000  \n",
       " Median :1.000   Median :4.250   Median : 1.000  \n",
       " Mean   :1.571   Mean   :4.143   Mean   : 1.825  \n",
       " 3rd Qu.:2.000   3rd Qu.:4.750   3rd Qu.: 2.000  \n",
       " Max.   :7.000   Max.   :5.000   Max.   :11.000  \n",
       "                 NA's   :1                       "
      ]
     },
     "metadata": {},
     "output_type": "display_data"
    }
   ],
   "source": [
    "#import the data\n",
    "library(haven)\n",
    "master = read_spss(\"c7.1 mediation.sav\")\n",
    "\n",
    "#data screening would go here \n",
    "summary(master)\n",
    "master = na.omit(master) ##just because we are skipping data screening for lecture "
   ]
  },
  {
   "cell_type": "markdown",
   "metadata": {},
   "source": [
    "* We will use bootstrap: if the confidence interval does not cross zero, then that implies a change in the c path\n",
    "\n",
    "> **Il y'a médiation (totale ou partielle) si l'influence de la VI sur la VD diminue sensiblement après le contrôle de la variable médiatrice**\n",
    "> * Partial mediation occurs when $0 \\lt c' \\lt c$ \n",
    "> * Complete mediation occurs when $c'=0$\n",
    "\n",
    "\n",
    "<img src=\"im-mediation.png\" width=600>\n"
   ]
  },
  {
   "cell_type": "code",
   "execution_count": 6,
   "metadata": {},
   "outputs": [
    {
     "data": {
      "text/plain": [
       "\n",
       "Call:\n",
       "lm(formula = exam ~ previous, data = master)\n",
       "\n",
       "Residuals:\n",
       "    Min      1Q  Median      3Q     Max \n",
       "-1.9092 -0.6477 -0.6477  0.3523  8.4062 \n",
       "\n",
       "Coefficients:\n",
       "            Estimate Std. Error t value Pr(>|t|)    \n",
       "(Intercept)  1.33228    0.16749   7.955 7.37e-14 ***\n",
       "previous     0.31539    0.08689   3.630 0.000348 ***\n",
       "---\n",
       "Signif. codes:  0 ‘***’ 0.001 ‘**’ 0.01 ‘*’ 0.05 ‘.’ 0.1 ‘ ’ 1\n",
       "\n",
       "Residual standard error: 1.496 on 237 degrees of freedom\n",
       "Multiple R-squared:  0.05266,\tAdjusted R-squared:  0.04867 \n",
       "F-statistic: 13.17 on 1 and 237 DF,  p-value: 0.0003476\n"
      ]
     },
     "metadata": {},
     "output_type": "display_data"
    }
   ],
   "source": [
    "#path c\n",
    "model1 = lm(exam ~ previous, data = master)\n",
    "summary(model1)"
   ]
  },
  {
   "cell_type": "code",
   "execution_count": 9,
   "metadata": {},
   "outputs": [
    {
     "data": {
      "text/plain": [
       "\n",
       "Call:\n",
       "lm(formula = facebook ~ previous, data = master)\n",
       "\n",
       "Residuals:\n",
       "     Min       1Q   Median       3Q      Max \n",
       "-2.44609 -0.44609  0.05391  0.55391  1.35640 \n",
       "\n",
       "Coefficients:\n",
       "            Estimate Std. Error t value Pr(>|t|)    \n",
       "(Intercept)  4.28817    0.08195  52.330   <2e-16 ***\n",
       "previous    -0.09208    0.04251  -2.166   0.0313 *  \n",
       "---\n",
       "Signif. codes:  0 ‘***’ 0.001 ‘**’ 0.01 ‘*’ 0.05 ‘.’ 0.1 ‘ ’ 1\n",
       "\n",
       "Residual standard error: 0.732 on 237 degrees of freedom\n",
       "Multiple R-squared:  0.01941,\tAdjusted R-squared:  0.01527 \n",
       "F-statistic: 4.692 on 1 and 237 DF,  p-value: 0.03131\n"
      ]
     },
     "metadata": {},
     "output_type": "display_data"
    }
   ],
   "source": [
    "#path a - based on previous knowledge we are spending less time on facebook\n",
    "model2 = lm(facebook ~ previous, data = master)\n",
    "summary(model2)"
   ]
  },
  {
   "cell_type": "code",
   "execution_count": 10,
   "metadata": {},
   "outputs": [
    {
     "data": {
      "text/plain": [
       "\n",
       "Call:\n",
       "lm(formula = exam ~ previous + facebook, data = master)\n",
       "\n",
       "Residuals:\n",
       "    Min      1Q  Median      3Q     Max \n",
       "-2.6065 -0.7666 -0.3117  0.3850  7.9999 \n",
       "\n",
       "Coefficients:\n",
       "            Estimate Std. Error t value Pr(>|t|)    \n",
       "(Intercept)  3.93294    0.56791   6.925 4.09e-11 ***\n",
       "previous     0.25954    0.08397   3.091  0.00224 ** \n",
       "facebook    -0.60647    0.12705  -4.773 3.18e-06 ***\n",
       "---\n",
       "Signif. codes:  0 ‘***’ 0.001 ‘**’ 0.01 ‘*’ 0.05 ‘.’ 0.1 ‘ ’ 1\n",
       "\n",
       "Residual standard error: 1.432 on 236 degrees of freedom\n",
       "Multiple R-squared:  0.1361,\tAdjusted R-squared:  0.1288 \n",
       "F-statistic: 18.59 on 2 and 236 DF,  p-value: 3.194e-08\n"
      ]
     },
     "metadata": {},
     "output_type": "display_data"
    }
   ],
   "source": [
    "#path b, c'\n",
    "#put in X then M // we should keep X and M in order for the boostrapping\n",
    "model3 = lm(exam ~ previous + facebook, data = master)\n",
    "summary(model3)"
   ]
  },
  {
   "cell_type": "code",
   "execution_count": 12,
   "metadata": {},
   "outputs": [
    {
     "data": {
      "text/html": [
       "<strong>previous:</strong> 0.315386135260246"
      ],
      "text/latex": [
       "\\textbf{previous:} 0.315386135260246"
      ],
      "text/markdown": [
       "**previous:** 0.315386135260246"
      ],
      "text/plain": [
       " previous \n",
       "0.3153861 "
      ]
     },
     "metadata": {},
     "output_type": "display_data"
    },
    {
     "data": {
      "text/html": [
       "<strong>previous:</strong> 0.259540727439665"
      ],
      "text/latex": [
       "\\textbf{previous:} 0.259540727439665"
      ],
      "text/markdown": [
       "**previous:** 0.259540727439665"
      ],
      "text/plain": [
       " previous \n",
       "0.2595407 "
      ]
     },
     "metadata": {},
     "output_type": "display_data"
    },
    {
     "data": {
      "text/html": [
       "<strong>previous:</strong> 0.0558454078205813"
      ],
      "text/latex": [
       "\\textbf{previous:} 0.0558454078205813"
      ],
      "text/markdown": [
       "**previous:** 0.0558454078205813"
      ],
      "text/plain": [
       "  previous \n",
       "0.05584541 "
      ]
     },
     "metadata": {},
     "output_type": "display_data"
    },
    {
     "data": {
      "text/plain": [
       "\n",
       "ORDINARY NONPARAMETRIC BOOTSTRAP\n",
       "\n",
       "\n",
       "Call:\n",
       "boot(data = master, statistic = indirectsaved, R = 1000, formula2 = facebook ~ \n",
       "    previous, formula3 = exam ~ previous + facebook)\n",
       "\n",
       "\n",
       "Bootstrap Statistics :\n",
       "      original      bias    std. error\n",
       "t1* 0.05584541 0.002026691  0.03218549"
      ]
     },
     "metadata": {},
     "output_type": "display_data"
    },
    {
     "data": {
      "text/plain": [
       "BOOTSTRAP CONFIDENCE INTERVAL CALCULATIONS\n",
       "Based on 1000 bootstrap replicates\n",
       "\n",
       "CALL : \n",
       "boot.ci(boot.out = bootresults, conf = 0.95, type = \"norm\")\n",
       "\n",
       "Intervals : \n",
       "Level      Normal        \n",
       "95%   (-0.0093,  0.1169 )  \n",
       "Calculations and Intervals on Original Scale"
      ]
     },
     "metadata": {},
     "output_type": "display_data"
    }
   ],
   "source": [
    "a = coef(model2)[2]\n",
    "b = coef(model3)[3]\n",
    "\n",
    "#confidence intervals\n",
    "total = coef(model1)[2] #cpath\n",
    "direct = coef(model3)[2] #c' path\n",
    "indirect = a*b\n",
    "\n",
    "total; direct; indirect\n",
    "\n",
    "####Bootstrapping the Mediation Effect####\n",
    "##write a function that gives you the numbers you want\n",
    "##we want the indirect effect\n",
    "##do not change this part \n",
    "indirectsaved = function(formula2, formula3, dataset, random) {\n",
    "  d = dataset[random, ] #randomize by row\n",
    "  model2 = lm(formula2, data = d)\n",
    "  model3 = lm(formula3, data = d)\n",
    "  a = coef(model2)[2]\n",
    "  b = coef(model3)[3]\n",
    "  indirect = a*b\n",
    "  return(indirect)\n",
    "}\n",
    "\n",
    "library(boot)\n",
    "\n",
    "bootresults = boot(data = master,\n",
    "                   statistic = indirectsaved,\n",
    "                   formula2 = facebook ~ previous,\n",
    "                   formula3 = exam ~ previous + facebook,\n",
    "                   R = 1000)\n",
    "\n",
    "bootresults\n",
    "boot.ci(bootresults,\n",
    "        conf = .95,\n",
    "        type = \"norm\")"
   ]
  },
  {
   "cell_type": "markdown",
   "metadata": {},
   "source": [
    "> We are especially looking at the indirect effect which is 0.06, bias how off the estimation is gonna be\n",
    "> Note that the range of the confidence interval includes 0 we conclude that mediation won't happen"
   ]
  },
  {
   "cell_type": "code",
   "execution_count": null,
   "metadata": {},
   "outputs": [],
   "source": []
  },
  {
   "cell_type": "code",
   "execution_count": null,
   "metadata": {},
   "outputs": [],
   "source": []
  }
 ],
 "metadata": {
  "kernelspec": {
   "display_name": "R",
   "language": "R",
   "name": "ir"
  },
  "language_info": {
   "codemirror_mode": "r",
   "file_extension": ".r",
   "mimetype": "text/x-r-source",
   "name": "R",
   "pygments_lexer": "r",
   "version": "3.6.0"
  }
 },
 "nbformat": 4,
 "nbformat_minor": 2
}
