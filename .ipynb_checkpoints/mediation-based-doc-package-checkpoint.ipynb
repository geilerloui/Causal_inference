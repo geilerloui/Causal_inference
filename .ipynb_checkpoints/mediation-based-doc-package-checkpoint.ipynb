{
 "cells": [
  {
   "cell_type": "markdown",
   "metadata": {},
   "source": [
    "## 3.1 Estimation of the average causal mediation effects\n",
    "\n",
    "**Remarques:**\n",
    "* cette librairie de mediation n'est pas limité à l'hypothèse d'additivité\n",
    "* Les données sont randomisés"
   ]
  },
  {
   "cell_type": "code",
   "execution_count": 37,
   "metadata": {},
   "outputs": [],
   "source": [
    "options(repr.plot.width=3, repr.plot.height=4)\n",
    "\n"
   ]
  },
  {
   "cell_type": "code",
   "execution_count": 38,
   "metadata": {},
   "outputs": [],
   "source": [
    "library(mediation)"
   ]
  },
  {
   "cell_type": "code",
   "execution_count": 39,
   "metadata": {},
   "outputs": [],
   "source": [
    "set.seed(2014)\n",
    "\n",
    "# Experiment where subject are exposed to different media stories about immigration\n",
    "# they posit anxiety as the mediating variable for the causal effect of framing on\n",
    "# public opinion.\n",
    "# emo: measure of anxiety\n",
    "# treat: treatment\n",
    "# cong_mesg: outcome variable - binary - indicating whether or not the participant agreed to send a letter\n",
    "# about immigration policy to his or her member of congress\n",
    "data(\"framing\", package = \"mediation\")"
   ]
  },
  {
   "cell_type": "code",
   "execution_count": 40,
   "metadata": {},
   "outputs": [],
   "source": [
    "med.fit <- lm(emo ~ treat + age + educ + gender + income, data = framing)"
   ]
  },
  {
   "cell_type": "code",
   "execution_count": 41,
   "metadata": {},
   "outputs": [],
   "source": [
    "out.fit <- glm(cong_mesg ~ emo + treat + age + educ + gender + income, \n",
    "               data = framing, family = binomial(\"probit\"))"
   ]
  },
  {
   "cell_type": "code",
   "execution_count": 42,
   "metadata": {},
   "outputs": [],
   "source": [
    "# by default: sims=1000 here we choose sims=100\n",
    "med.out <- mediate(med.fit, out.fit, treat = \"treat\", mediator = \"emo\", robustSE = TRUE, sims = 100)"
   ]
  },
  {
   "cell_type": "markdown",
   "metadata": {},
   "source": [
    "### Analyse des résultats:\n",
    "\n",
    "* ACME sont tout les deux significatif\n",
    "    * ACME = Total effect - direct effect = b1 - b4\n",
    "* Par contre, pas les ADE et total effect\n",
    "    * Total effect = 0.1009 = b_1 est l'effet total de X -> Y\n",
    "    * ADE = direct effect = b_4 = effet de X->Y en prenant en compte M\n",
    "\n",
    "Les résultats suggèrent que le traitement peut avoir augmenté la réponse émotionelle, ce qui a rendu les sujets plus susceptible d'envoyé un message"
   ]
  },
  {
   "cell_type": "code",
   "execution_count": 43,
   "metadata": {},
   "outputs": [
    {
     "data": {
      "text/plain": [
       "\n",
       "Causal Mediation Analysis \n",
       "\n",
       "Quasi-Bayesian Confidence Intervals\n",
       "\n",
       "                         Estimate 95% CI Lower 95% CI Upper p-value    \n",
       "ACME (control)             0.0791       0.0351         0.15  <2e-16 ***\n",
       "ACME (treated)             0.0804       0.0367         0.16  <2e-16 ***\n",
       "ADE (control)              0.0206      -0.0976         0.12    0.70    \n",
       "ADE (treated)              0.0218      -0.1053         0.12    0.70    \n",
       "Total Effect               0.1009      -0.0497         0.23    0.14    \n",
       "Prop. Mediated (control)   0.6946      -6.3109         3.68    0.14    \n",
       "Prop. Mediated (treated)   0.7118      -5.7936         3.50    0.14    \n",
       "ACME (average)             0.0798       0.0359         0.15  <2e-16 ***\n",
       "ADE (average)              0.0212      -0.1014         0.12    0.70    \n",
       "Prop. Mediated (average)   0.7032      -6.0523         3.59    0.14    \n",
       "---\n",
       "Signif. codes:  0 ‘***’ 0.001 ‘**’ 0.01 ‘*’ 0.05 ‘.’ 0.1 ‘ ’ 1\n",
       "\n",
       "Sample Size Used: 265 \n",
       "\n",
       "\n",
       "Simulations: 100 \n"
      ]
     },
     "metadata": {},
     "output_type": "display_data"
    }
   ],
   "source": [
    "summary(med.out)"
   ]
  },
  {
   "cell_type": "markdown",
   "metadata": {},
   "source": [
    "## 3.2. Moderated mediation\n",
    "\n",
    "on va parler de modération de la médiation. C'est à dire qu'on va voir si il y'a un sous groupe dans les moderated qui impact la médiation.\n",
    "\n",
    "Par exemple on peut voir si la peau foncé peut avoir un rôle sur le risque de cancer\n",
    "\n",
    "---------\n",
    "\n",
    "Dans notre cas: on veut vérifier si le ACME est plus fort, pour des personnes âgés que des jeunes.\n",
    "\n",
    "Est-ce que le ACME peut être modéré par l'âge ?"
   ]
  },
  {
   "cell_type": "code",
   "execution_count": 44,
   "metadata": {},
   "outputs": [],
   "source": [
    "med.fit <- lm(emo ~ treat * age + educ + gender + income, data=framing)\n",
    "out.fit <- glm(cong_mesg ~ emo + treat * age + emo * age + educ + gender \n",
    "               + income, data = framing, family = binomial(\"probit\"))"
   ]
  },
  {
   "cell_type": "code",
   "execution_count": 45,
   "metadata": {},
   "outputs": [
    {
     "data": {
      "text/plain": [
       "\n",
       "Causal Mediation Analysis \n",
       "\n",
       "Quasi-Bayesian Confidence Intervals\n",
       "\n",
       "(Inference Conditional on the Covariate Values Specified in `covariates')\n",
       "\n",
       "                         Estimate 95% CI Lower 95% CI Upper p-value  \n",
       "ACME (control)             0.0740       0.0101         0.16    0.04 *\n",
       "ACME (treated)             0.0872       0.0127         0.17    0.04 *\n",
       "ADE (control)              0.2208      -0.0409         0.44    0.12  \n",
       "ADE (treated)              0.2340      -0.0496         0.46    0.12  \n",
       "Total Effect               0.3080       0.0675         0.55    0.04 *\n",
       "Prop. Mediated (control)   0.2052      -0.1166         1.11    0.08 .\n",
       "Prop. Mediated (treated)   0.2500      -0.1290         1.09    0.08 .\n",
       "ACME (average)             0.0806       0.0114         0.16    0.04 *\n",
       "ADE (average)              0.2274      -0.0453         0.46    0.12  \n",
       "Prop. Mediated (average)   0.2276      -0.1265         1.10    0.08 .\n",
       "---\n",
       "Signif. codes:  0 ‘***’ 0.001 ‘**’ 0.01 ‘*’ 0.05 ‘.’ 0.1 ‘ ’ 1\n",
       "\n",
       "Sample Size Used: 265 \n",
       "\n",
       "\n",
       "Simulations: 100 \n"
      ]
     },
     "metadata": {},
     "output_type": "display_data"
    }
   ],
   "source": [
    "# On doit spécifier les levels des moderators - on le fait avec \"covariates\"\n",
    "med.age20 <- mediate(med.fit, out.fit, treat = \"treat\", \n",
    "                     mediator = \"emo\", covariates = list(age = 20), sims = 100)\n",
    "med.age60 <- mediate(med.fit, out.fit, treat = \"treat\",\n",
    "                     mediator = \"emo\", covariates = list(age = 60), sims = 100)\n",
    "summary(med.age20)"
   ]
  },
  {
   "cell_type": "code",
   "execution_count": 46,
   "metadata": {},
   "outputs": [
    {
     "data": {
      "text/plain": [
       "\n",
       "Causal Mediation Analysis \n",
       "\n",
       "Quasi-Bayesian Confidence Intervals\n",
       "\n",
       "(Inference Conditional on the Covariate Values Specified in `covariates')\n",
       "\n",
       "                          Estimate 95% CI Lower 95% CI Upper p-value    \n",
       "ACME (control)             0.08073      0.01072         0.15  <2e-16 ***\n",
       "ACME (treated)             0.07198      0.00946         0.13  <2e-16 ***\n",
       "ADE (control)             -0.09276     -0.20714         0.03    0.20    \n",
       "ADE (treated)             -0.10151     -0.22901         0.04    0.20    \n",
       "Total Effect              -0.02079     -0.16237         0.14    0.86    \n",
       "Prop. Mediated (control)  -0.32103    -12.94876        22.60    0.86    \n",
       "Prop. Mediated (treated)  -0.22908    -11.79294        19.72    0.86    \n",
       "ACME (average)             0.07635      0.01009         0.14  <2e-16 ***\n",
       "ADE (average)             -0.09714     -0.21800         0.03    0.20    \n",
       "Prop. Mediated (average)  -0.27506    -12.37085        21.16    0.86    \n",
       "---\n",
       "Signif. codes:  0 ‘***’ 0.001 ‘**’ 0.01 ‘*’ 0.05 ‘.’ 0.1 ‘ ’ 1\n",
       "\n",
       "Sample Size Used: 265 \n",
       "\n",
       "\n",
       "Simulations: 100 \n"
      ]
     },
     "metadata": {},
     "output_type": "display_data"
    }
   ],
   "source": [
    "summary(med.age60)"
   ]
  },
  {
   "cell_type": "markdown",
   "metadata": {},
   "source": [
    "## 3.3 Non-binary treatment variables\n",
    "\n",
    "On va considérer le cas où les patients peuvent recevoir plus que 2 traitements différents"
   ]
  },
  {
   "cell_type": "code",
   "execution_count": null,
   "metadata": {},
   "outputs": [],
   "source": []
  },
  {
   "cell_type": "markdown",
   "metadata": {},
   "source": [
    "## 3.4. Sensitivity analysis for sequential ignorability\n",
    "\n",
    "l'analyse de sensibilité sert à analyser la possibilité que des covariates n'ont pas été observés\n",
    "\n",
    "On utilise le **medsens** function.\n",
    "\n",
    "On va faire varier le paramètre \"rho\" et voir comment il fait varier ACME:\n",
    "* rho = correlation btw residuals du médiateur et outcome regressions"
   ]
  },
  {
   "cell_type": "code",
   "execution_count": 47,
   "metadata": {},
   "outputs": [
    {
     "name": "stderr",
     "output_type": "stream",
     "text": [
      "Warning message in rho^2 * (1 - r.sq.m) * (1 - r.sq.y):\n",
      "“Recycling array of length 1 in vector-array arithmetic is deprecated.\n",
      "  Use c() or as.vector() instead.\n",
      "”Warning message in err.cr.d^2 * (1 - r.sq.m) * (1 - r.sq.y):\n",
      "“Recycling array of length 1 in vector-array arithmetic is deprecated.\n",
      "  Use c() or as.vector() instead.\n",
      "”"
     ]
    },
    {
     "data": {
      "text/plain": [
       "\n",
       "Mediation Sensitivity Analysis: Average Mediation Effect\n",
       "\n",
       "Sensitivity Region: ACME for Control Group\n",
       "\n",
       "     Rho ACME(control) 95% CI Lower 95% CI Upper R^2_M*R^2_Y* R^2_M~R^2_Y~\n",
       "[1,] 0.3        0.0052      -0.0085       0.0139         0.09       0.0493\n",
       "[2,] 0.4       -0.0094      -0.0284       0.0020         0.16       0.0877\n",
       "\n",
       "Rho at which ACME for Control Group = 0: 0.3\n",
       "R^2_M*R^2_Y* at which ACME for Control Group = 0: 0.09\n",
       "R^2_M~R^2_Y~ at which ACME for Control Group = 0: 0.0493 \n",
       "\n",
       "\n",
       "Sensitivity Region: ACME for Treatment Group\n",
       "\n",
       "     Rho ACME(treated) 95% CI Lower 95% CI Upper R^2_M*R^2_Y* R^2_M~R^2_Y~\n",
       "[1,] 0.3        0.0058      -0.0100       0.0162         0.09       0.0493\n",
       "[2,] 0.4       -0.0113      -0.0345       0.0020         0.16       0.0877\n",
       "\n",
       "Rho at which ACME for Treatment Group = 0: 0.3\n",
       "R^2_M*R^2_Y* at which ACME for Treatment Group = 0: 0.09\n",
       "R^2_M~R^2_Y~ at which ACME for Treatment Group = 0: 0.0493 \n"
      ]
     },
     "metadata": {},
     "output_type": "display_data"
    }
   ],
   "source": [
    "med.fit <- lm(emo ~ treat + age + educ + gender + income, data = framing)\n",
    "out.fit <- glm(cong_mesg ~ emo + treat + age + educ + gender + income, data = framing, family = binomial(\"probit\"))\n",
    "med.out <- mediate(med.fit, out.fit, treat = \"treat\", mediator = \"emo\", robustSE = TRUE, sims = 100)\n",
    "\n",
    "# rho.by = 0.1, spécifique que rho variera de -0.9 à 0.9 par pas de 0.1\n",
    "# le output va afficher tout les cas où rho peut être égale à 0\n",
    "sens.out <- medsens(med.out, rho.by = 0.1, effect.type = \"indirect\", sims = 100)\n",
    "summary(sens.out)"
   ]
  },
  {
   "cell_type": "code",
   "execution_count": 48,
   "metadata": {},
   "outputs": [
    {
     "data": {
      "image/png": "[encoded data removed]",
      "text/plain": [
       "Plot with title “Anxiety”"
      ]
     },
     "metadata": {},
     "output_type": "display_data"
    },
    {
     "data": {
      "image/png": "[encoded data removed]",
      "text/plain": [
       "Plot with title “Anxiety”"
      ]
     },
     "metadata": {},
     "output_type": "display_data"
    }
   ],
   "source": [
    "plot(sens.out, sens.par = \"rho\", main = \"Anxiety\", ylim = c(-0.2, 0.2))"
   ]
  },
  {
   "cell_type": "markdown",
   "metadata": {},
   "source": [
    "## 4. Causal mediation analysis of multilevel data\n",
    "\n",
    "* individual observations (students, patients, employees) are clustered within groups\n",
    "    * multilevel data takes into account such heterogeneity\n",
    "    \n",
    "On va travailler sur des donneés où les étudiants sont clusterisés par école\n",
    "\n",
    "### 4.1 Group-level\n",
    "\n",
    "On va voir le cas suivant:\n",
    "* Treatment=group level\n",
    "* mediator & outcome sont mesuré au niveau individuel"
   ]
  },
  {
   "cell_type": "code",
   "execution_count": 49,
   "metadata": {},
   "outputs": [],
   "source": [
    "data(\"student\", package = \"mediation\")"
   ]
  },
  {
   "cell_type": "markdown",
   "metadata": {},
   "source": [
    "On va étudier l'impact de:\n",
    "* treatment: si l'école est catholique ou pas (catholic)\n",
    "* outcome: affecte la vraisemblance que l'étudiant va se battre à l'école (fight)\n",
    "* mediator: attachement to the school (attachment)"
   ]
  },
  {
   "cell_type": "code",
   "execution_count": 50,
   "metadata": {},
   "outputs": [
    {
     "name": "stderr",
     "output_type": "stream",
     "text": [
      "Warning message:\n",
      "“package ‘lme4’ was built under R version 3.6.1”Warning message in checkConv(attr(opt, \"derivs\"), opt$par, ctrl = control$checkConv, :\n",
      "“Model failed to converge with max|grad| = 0.00391547 (tol = 0.001, component 1)”Warning message in checkConv(attr(opt, \"derivs\"), opt$par, ctrl = control$checkConv, :\n",
      "“Model failed to converge with max|grad| = 0.0162285 (tol = 0.001, component 1)”"
     ]
    }
   ],
   "source": [
    "library(lme4)\n",
    "\n",
    "med.fit <- glmer(attachment ~ catholic + gender + income + pared + (1|SCH_ID),family = binomial(link = \"logit\"), data = student)\n",
    "out.fit <- glmer(fight ~ catholic*attachment +gender + income + pared + (1 + attachment|SCH_ID), family = binomial(link = \"logit\"), data = student)"
   ]
  },
  {
   "cell_type": "markdown",
   "metadata": {},
   "source": [
    "---------------\n",
    "les résultats sont significativement différent de zéro, ce qui indique que le status de l'école augmente l'attachement ce qui baisse l'agressivité."
   ]
  },
  {
   "cell_type": "code",
   "execution_count": 51,
   "metadata": {},
   "outputs": [
    {
     "data": {
      "text/plain": [
       "\n",
       "Causal Mediation Analysis \n",
       "\n",
       "Quasi-Bayesian Confidence Intervals\n",
       "\n",
       "Mediator Groups: SCH_ID \n",
       "\n",
       "Outcome Groups: SCH_ID \n",
       "\n",
       "Output Based on Overall Averages Across Groups \n",
       "\n",
       "                         Estimate 95% CI Lower 95% CI Upper p-value    \n",
       "ACME (control)           -0.00373     -0.00643         0.00  <2e-16 ***\n",
       "ACME (treated)           -0.00390     -0.00689         0.00  <2e-16 ***\n",
       "ADE (control)            -0.02670     -0.04548         0.00    0.06 .  \n",
       "ADE (treated)            -0.02687     -0.04446         0.00    0.06 .  \n",
       "Total Effect             -0.03060     -0.04836        -0.01  <2e-16 ***\n",
       "Prop. Mediated (control)  0.11358      0.05271         1.00  <2e-16 ***\n",
       "Prop. Mediated (treated)  0.12459      0.03439         1.00  <2e-16 ***\n",
       "ACME (average)           -0.00381     -0.00621         0.00  <2e-16 ***\n",
       "ADE (average)            -0.02679     -0.04497         0.00    0.06 .  \n",
       "Prop. Mediated (average)  0.11909      0.04858         1.00  <2e-16 ***\n",
       "---\n",
       "Signif. codes:  0 ‘***’ 0.001 ‘**’ 0.01 ‘*’ 0.05 ‘.’ 0.1 ‘ ’ 1\n",
       "\n",
       "Sample Size Used: 9679 \n",
       "\n",
       "\n",
       "Simulations: 100 \n"
      ]
     },
     "metadata": {},
     "output_type": "display_data"
    }
   ],
   "source": [
    "med.out <- mediate(med.fit, out.fit, treat = \"catholic\", mediator = \"attachment\",sims = 100)\n",
    "summary(med.out)"
   ]
  },
  {
   "cell_type": "code",
   "execution_count": null,
   "metadata": {},
   "outputs": [],
   "source": []
  },
  {
   "cell_type": "code",
   "execution_count": null,
   "metadata": {},
   "outputs": [],
   "source": []
  },
  {
   "cell_type": "code",
   "execution_count": null,
   "metadata": {},
   "outputs": [],
   "source": []
  },
  {
   "cell_type": "code",
   "execution_count": null,
   "metadata": {},
   "outputs": [],
   "source": []
  },
  {
   "cell_type": "code",
   "execution_count": null,
   "metadata": {},
   "outputs": [],
   "source": []
  },
  {
   "cell_type": "code",
   "execution_count": null,
   "metadata": {},
   "outputs": [],
   "source": []
  },
  {
   "cell_type": "code",
   "execution_count": null,
   "metadata": {},
   "outputs": [],
   "source": []
  },
  {
   "cell_type": "code",
   "execution_count": null,
   "metadata": {},
   "outputs": [],
   "source": []
  },
  {
   "cell_type": "code",
   "execution_count": null,
   "metadata": {},
   "outputs": [],
   "source": []
  },
  {
   "cell_type": "code",
   "execution_count": null,
   "metadata": {},
   "outputs": [],
   "source": []
  },
  {
   "cell_type": "code",
   "execution_count": null,
   "metadata": {},
   "outputs": [],
   "source": []
  },
  {
   "cell_type": "code",
   "execution_count": null,
   "metadata": {},
   "outputs": [],
   "source": []
  }
 ],
 "metadata": {
  "kernelspec": {
   "display_name": "R",
   "language": "R",
   "name": "ir"
  },
  "language_info": {
   "codemirror_mode": "r",
   "file_extension": ".r",
   "mimetype": "text/x-r-source",
   "name": "R",
   "pygments_lexer": "r",
   "version": "3.6.0"
  }
 },
 "nbformat": 4,
 "nbformat_minor": 2
}
