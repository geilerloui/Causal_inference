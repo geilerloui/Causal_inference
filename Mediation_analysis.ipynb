{
 "cells": [
  {
   "cell_type": "markdown",
   "metadata": {},
   "source": [
    "## Interesting lectures:\n",
    "* https://www.youtube.com/watch?v=4BsWqEmteKs\n",
    "\n",
    "\n",
    "Mediation in R:\n",
    "* https://www.youtube.com/watch?v=zGEHSjH-qAU\n",
    "\n",
    "Path analysis in R:\n",
    "* https://www.youtube.com/watch?v=-B37sK9NTfI&t=509s\n",
    "\n",
    "Mediation with bootstrapping:\n",
    "* https://www.youtube.com/watch?v=Llnvitb-uFI\n",
    "\n",
    "\n",
    "Mediation with sobel test (i'm not sure it is that good):\n",
    "* https://www.youtube.com/watch?v=jJ-Q-cCrE44\n",
    "\n",
    "\n",
    "To do first:\n",
    "* https://www.youtube.com/watch?v=lqH0ppOutVk"
   ]
  },
  {
   "cell_type": "code",
   "execution_count": 1,
   "metadata": {},
   "outputs": [],
   "source": [
    "med <- read.table(\"mediation_data.txt\", header=T)"
   ]
  },
  {
   "cell_type": "markdown",
   "metadata": {},
   "source": [
    "**Direct Effect: --> significant**\n",
    "$$\n",
    "happy = 2.19 + 0.275 \\times extra\n",
    "$$\n",
    "\n",
    "**Mediator: --> significant**\n",
    "$$\n",
    "diverse = 1.63 + 0.284 \\times extra\n",
    "$$\n",
    "\n",
    "**Everything:** --> still significant ; so partial mediation, we still have the direct path but it is reduced\n",
    "$$\n",
    "happy = 1.886 + 0.222 \\times extra + 0.1868 \\times diverse\n",
    "$$"
   ]
  },
  {
   "cell_type": "code",
   "execution_count": 9,
   "metadata": {},
   "outputs": [
    {
     "data": {
      "text/plain": [
       "\n",
       "Call:\n",
       "lm(formula = med$happy ~ med$extra)\n",
       "\n",
       "Residuals:\n",
       "     Min       1Q   Median       3Q      Max \n",
       "-2.15357 -0.49763 -0.08476  0.77762  2.05286 \n",
       "\n",
       "Coefficients:\n",
       "            Estimate Std. Error t value Pr(>|t|)    \n",
       "(Intercept)   2.1902     0.3723   5.882 1.84e-08 ***\n",
       "med$extra     0.2752     0.1022   2.693  0.00773 ** \n",
       "---\n",
       "Signif. codes:  0 ‘***’ 0.001 ‘**’ 0.01 ‘*’ 0.05 ‘.’ 0.1 ‘ ’ 1\n",
       "\n",
       "Residual standard error: 0.9467 on 186 degrees of freedom\n",
       "Multiple R-squared:  0.03753,\tAdjusted R-squared:  0.03236 \n",
       "F-statistic: 7.253 on 1 and 186 DF,  p-value: 0.007726\n"
      ]
     },
     "metadata": {},
     "output_type": "display_data"
    }
   ],
   "source": [
    "# Direct effect\n",
    "model1 <- lm(med$happy ~ med$extra)\n",
    "summary(model1)"
   ]
  },
  {
   "cell_type": "code",
   "execution_count": 10,
   "metadata": {},
   "outputs": [
    {
     "data": {
      "text/plain": [
       "\n",
       "Call:\n",
       "lm(formula = med$diverse ~ med$extra)\n",
       "\n",
       "Residuals:\n",
       "     Min       1Q   Median       3Q      Max \n",
       "-1.97565 -0.69191  0.05636  0.52089  2.23715 \n",
       "\n",
       "Coefficients:\n",
       "            Estimate Std. Error t value Pr(>|t|)    \n",
       "(Intercept)  1.62789    0.35343   4.606  7.6e-06 ***\n",
       "med$extra    0.28374    0.09702   2.925  0.00388 ** \n",
       "---\n",
       "Signif. codes:  0 ‘***’ 0.001 ‘**’ 0.01 ‘*’ 0.05 ‘.’ 0.1 ‘ ’ 1\n",
       "\n",
       "Residual standard error: 0.8987 on 186 degrees of freedom\n",
       "Multiple R-squared:  0.04396,\tAdjusted R-squared:  0.03882 \n",
       "F-statistic: 8.553 on 1 and 186 DF,  p-value: 0.003878\n"
      ]
     },
     "metadata": {},
     "output_type": "display_data"
    }
   ],
   "source": [
    "# Relationship btw mediator and predictor\n",
    "model2 <- lm(med$diverse ~ med$extra)\n",
    "summary(model2)"
   ]
  },
  {
   "cell_type": "code",
   "execution_count": 11,
   "metadata": {},
   "outputs": [
    {
     "data": {
      "text/plain": [
       "\n",
       "Call:\n",
       "lm(formula = med$happy ~ med$extra + med$diverse)\n",
       "\n",
       "Residuals:\n",
       "     Min       1Q   Median       3Q      Max \n",
       "-2.22437 -0.56277 -0.06535  0.77563  1.94231 \n",
       "\n",
       "Coefficients:\n",
       "            Estimate Std. Error t value Pr(>|t|)    \n",
       "(Intercept)  1.88612    0.38780   4.864 2.46e-06 ***\n",
       "med$extra    0.22224    0.10315   2.155   0.0325 *  \n",
       "med$diverse  0.18680    0.07623   2.451   0.0152 *  \n",
       "---\n",
       "Signif. codes:  0 ‘***’ 0.001 ‘**’ 0.01 ‘*’ 0.05 ‘.’ 0.1 ‘ ’ 1\n",
       "\n",
       "Residual standard error: 0.9342 on 185 degrees of freedom\n",
       "Multiple R-squared:  0.06779,\tAdjusted R-squared:  0.05771 \n",
       "F-statistic: 6.727 on 2 and 185 DF,  p-value: 0.001513\n"
      ]
     },
     "metadata": {},
     "output_type": "display_data"
    }
   ],
   "source": [
    "# Everything\n",
    "model3 <- lm(med$happy ~ med$extra + med$diverse)\n",
    "summary(model3)"
   ]
  },
  {
   "cell_type": "code",
   "execution_count": null,
   "metadata": {},
   "outputs": [],
   "source": []
  },
  {
   "cell_type": "code",
   "execution_count": null,
   "metadata": {},
   "outputs": [],
   "source": []
  },
  {
   "cell_type": "code",
   "execution_count": null,
   "metadata": {},
   "outputs": [],
   "source": []
  },
  {
   "cell_type": "code",
   "execution_count": null,
   "metadata": {},
   "outputs": [],
   "source": []
  },
  {
   "cell_type": "code",
   "execution_count": null,
   "metadata": {},
   "outputs": [],
   "source": []
  },
  {
   "cell_type": "code",
   "execution_count": null,
   "metadata": {},
   "outputs": [],
   "source": []
  },
  {
   "cell_type": "code",
   "execution_count": null,
   "metadata": {},
   "outputs": [],
   "source": []
  },
  {
   "cell_type": "code",
   "execution_count": null,
   "metadata": {},
   "outputs": [],
   "source": []
  },
  {
   "cell_type": "code",
   "execution_count": null,
   "metadata": {},
   "outputs": [],
   "source": []
  },
  {
   "cell_type": "code",
   "execution_count": null,
   "metadata": {},
   "outputs": [],
   "source": []
  }
 ],
 "metadata": {
  "kernelspec": {
   "display_name": "R",
   "language": "R",
   "name": "ir"
  },
  "language_info": {
   "codemirror_mode": "r",
   "file_extension": ".r",
   "mimetype": "text/x-r-source",
   "name": "R",
   "pygments_lexer": "r",
   "version": "3.6.0"
  }
 },
 "nbformat": 4,
 "nbformat_minor": 2
}
