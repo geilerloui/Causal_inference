{
 "cells": [
  {
   "cell_type": "markdown",
   "metadata": {},
   "source": [
    "# Setting up required R packages\n",
    "\n",
    "by Jonas Peters, Niklas Pfister and Rune Christiansen, 19.06.2019\n",
    "\n",
    "This notebook is to make sure that you can use the notebooks we provide. In particular, you need to have the following packages installed. You can execute the following code by pressing Shift + Enter."
   ]
  },
  {
   "cell_type": "code",
   "execution_count": 1,
   "metadata": {},
   "outputs": [
    {
     "ename": "ERROR",
     "evalue": "Error in library(CondIndTests): there is no package called ‘CondIndTests’\n",
     "output_type": "error",
     "traceback": [
      "Error in library(CondIndTests): there is no package called ‘CondIndTests’\nTraceback:\n",
      "1. library(CondIndTests)"
     ]
    }
   ],
   "source": [
    "library(CondIndTests)\n",
    "library(ppcor)\n",
    "library(dHSIC)\n",
    "library(seqICP)\n",
    "library(InvariantCausalPrediction)\n",
    "library(MASS)\n",
    "library(mgcv)\n",
    "library(AER)\n",
    "library(igraph)\n",
    "library(hash)\n",
    "show(\"You're all set!\")"
   ]
  },
  {
   "cell_type": "markdown",
   "metadata": {},
   "source": [
    "If the above code produced an error this means you are missing a package. You can install these directly from within this notebook. Just uncomment the required line in the following code."
   ]
  },
  {
   "cell_type": "code",
   "execution_count": 2,
   "metadata": {},
   "outputs": [
    {
     "name": "stderr",
     "output_type": "stream",
     "text": [
      "also installing the dependencies ‘bibtex’, ‘gbRd’, ‘Kendall’, ‘mvtnorm’, ‘Rdpack’, ‘VGAM’, ‘bitops’, ‘quantregForest’, ‘lawstat’, ‘RPtests’, ‘caTools’, ‘kernlab’\n",
      "\n",
      "Updating HTML index of packages in '.Library'\n",
      "Making 'packages.html' ... done\n",
      "Updating HTML index of packages in '.Library'\n",
      "Making 'packages.html' ... done\n",
      "Updating HTML index of packages in '.Library'\n",
      "Making 'packages.html' ... done\n",
      "Updating HTML index of packages in '.Library'\n",
      "Making 'packages.html' ... done\n",
      "also installing the dependencies ‘libcoin’, ‘Formula’, ‘inum’, ‘stabs’, ‘nnls’, ‘quadprog’, ‘partykit’, ‘mboost’\n",
      "\n",
      "Updating HTML index of packages in '.Library'\n",
      "Making 'packages.html' ... done\n",
      "Updating HTML index of packages in '.Library'\n",
      "Making 'packages.html' ... done\n",
      "Updating HTML index of packages in '.Library'\n",
      "Making 'packages.html' ... done\n",
      "also installing the dependencies ‘zip’, ‘SparseM’, ‘MatrixModels’, ‘sp’, ‘openxlsx’, ‘minqa’, ‘nloptr’, ‘RcppEigen’, ‘carData’, ‘abind’, ‘pbkrtest’, ‘quantreg’, ‘maptools’, ‘rio’, ‘lme4’, ‘car’, ‘lmtest’, ‘sandwich’\n",
      "\n",
      "Warning message in install.packages(\"AER\"):\n",
      "“installation of package ‘zip’ had non-zero exit status”Warning message in install.packages(\"AER\"):\n",
      "“installation of package ‘nloptr’ had non-zero exit status”Warning message in install.packages(\"AER\"):\n",
      "“installation of package ‘openxlsx’ had non-zero exit status”Warning message in install.packages(\"AER\"):\n",
      "“installation of package ‘lme4’ had non-zero exit status”Warning message in install.packages(\"AER\"):\n",
      "“installation of package ‘pbkrtest’ had non-zero exit status”Warning message in install.packages(\"AER\"):\n",
      "“installation of package ‘rio’ had non-zero exit status”Warning message in install.packages(\"AER\"):\n",
      "“installation of package ‘car’ had non-zero exit status”Warning message in install.packages(\"AER\"):\n",
      "“installation of package ‘AER’ had non-zero exit status”Updating HTML index of packages in '.Library'\n",
      "Making 'packages.html' ... done\n",
      "Warning message in install.packages(\"igraph\"):\n",
      "“installation of package ‘igraph’ had non-zero exit status”Updating HTML index of packages in '.Library'\n",
      "Making 'packages.html' ... done\n"
     ]
    }
   ],
   "source": [
    "install.packages(\"CondIndTests\")\n",
    "install.packages(\"ppcor\")\n",
    "install.packages(\"dHSIC\")\n",
    "install.packages(\"seqICP\")\n",
    "install.packages(\"InvariantCausalPrediction\")\n",
    "install.packages(\"MASS\")\n",
    "install.packages(\"mgcv\")\n",
    "install.packages(\"AER\")\n",
    "install.packages(\"igraph\")"
   ]
  },
  {
   "cell_type": "markdown",
   "metadata": {},
   "source": [
    "Don't worry if you are not able to install the package <tt>igraph</tt>. It is known to cause problems with mac computers and is not essential for our notebooks."
   ]
  }
 ],
 "metadata": {
  "anaconda-cloud": {},
  "kernelspec": {
   "display_name": "R",
   "language": "R",
   "name": "ir"
  },
  "language_info": {
   "codemirror_mode": "r",
   "file_extension": ".r",
   "mimetype": "text/x-r-source",
   "name": "R",
   "pygments_lexer": "r",
   "version": "3.6.0"
  }
 },
 "nbformat": 4,
 "nbformat_minor": 2
}
