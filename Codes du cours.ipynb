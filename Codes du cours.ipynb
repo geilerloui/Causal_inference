{
 "cells": [
  {
   "cell_type": "markdown",
   "metadata": {},
   "source": [
    "## Code Snippet 3.3 - The code samples from the SCM described in Example 3.2\n",
    "\n",
    "$$\n",
    "\\begin{align}\n",
    "C &:= N_C \\\\\n",
    "E &:= 4 \\cdot C + N_E\n",
    "\\end{align}\n",
    "$$"
   ]
  },
  {
   "cell_type": "code",
   "execution_count": 1,
   "metadata": {},
   "outputs": [
    {
     "data": {
      "text/html": [
       "<ol class=list-inline>\n",
       "\t<li>0.123653187643868</li>\n",
       "\t<li>16.1386767204207</li>\n",
       "</ol>\n"
      ],
      "text/latex": [
       "\\begin{enumerate*}\n",
       "\\item 0.123653187643868\n",
       "\\item 16.1386767204207\n",
       "\\end{enumerate*}\n"
      ],
      "text/markdown": [
       "1. 0.123653187643868\n",
       "2. 16.1386767204207\n",
       "\n",
       "\n"
      ],
      "text/plain": [
       "[1]  0.1236532 16.1386767"
      ]
     },
     "metadata": {},
     "output_type": "display_data"
    }
   ],
   "source": [
    "set.seed(1)\n",
    "\n",
    "# generates a sample from the distribution entailed by the SCM\n",
    "C <- rnorm(300)\n",
    "E <- 4*C + rnorm(300)\n",
    "c(mean(E), var(E))"
   ]
  },
  {
   "cell_type": "code",
   "execution_count": 2,
   "metadata": {},
   "outputs": [
    {
     "data": {
      "text/html": [
       "1.67489268957619e-176"
      ],
      "text/latex": [
       "1.67489268957619e-176"
      ],
      "text/markdown": [
       "1.67489268957619e-176"
      ],
      "text/plain": [
       "[1] 1.674893e-176"
      ]
     },
     "metadata": {},
     "output_type": "display_data"
    }
   ],
   "source": [
    "cor.test(C,E)$p.value"
   ]
  },
  {
   "cell_type": "code",
   "execution_count": 3,
   "metadata": {},
   "outputs": [
    {
     "data": {
      "text/html": [
       "<ol class=list-inline>\n",
       "\t<li>7.93691749744072</li>\n",
       "\t<li>1.18703462491503</li>\n",
       "</ol>\n"
      ],
      "text/latex": [
       "\\begin{enumerate*}\n",
       "\\item 7.93691749744072\n",
       "\\item 1.18703462491503\n",
       "\\end{enumerate*}\n"
      ],
      "text/markdown": [
       "1. 7.93691749744072\n",
       "2. 1.18703462491503\n",
       "\n",
       "\n"
      ],
      "text/plain": [
       "[1] 7.936917 1.187035"
      ]
     },
     "metadata": {},
     "output_type": "display_data"
    }
   ],
   "source": [
    "# generates a sample from the intervention distribution do(C:=2); this changes the distribution of E\n",
    "# repeat 2, 300 times\n",
    "C <- rep(2, times=300)\n",
    "E <- 4*C + rnorm(300)\n",
    "\n",
    "c(mean(E), var(E))"
   ]
  },
  {
   "cell_type": "code",
   "execution_count": 4,
   "metadata": {},
   "outputs": [
    {
     "name": "stderr",
     "output_type": "stream",
     "text": [
      "Warning message in cor(x, y):\n",
      "“the standard deviation is zero”"
     ]
    },
    {
     "data": {
      "text/html": [
       "&lt;NA&gt;"
      ],
      "text/latex": [
       "<NA>"
      ],
      "text/markdown": [
       "&lt;NA&gt;"
      ],
      "text/plain": [
       "[1] NA"
      ]
     },
     "metadata": {},
     "output_type": "display_data"
    }
   ],
   "source": [
    "cor.test(C,E)$p.value"
   ]
  },
  {
   "cell_type": "code",
   "execution_count": 5,
   "metadata": {},
   "outputs": [
    {
     "data": {
      "text/html": [
       "0.211449195809792"
      ],
      "text/latex": [
       "0.211449195809792"
      ],
      "text/markdown": [
       "0.211449195809792"
      ],
      "text/plain": [
       "[1] 0.2114492"
      ]
     },
     "metadata": {},
     "output_type": "display_data"
    }
   ],
   "source": [
    "# Generates a sample from the intervention distribution do(E:=N~); this breaks the dependence between C and E\n",
    "C <- rnorm(300)\n",
    "E <- rnorm(300)\n",
    "cor.test(C,E)$p.value"
   ]
  },
  {
   "cell_type": "markdown",
   "metadata": {},
   "source": [
    "## Code Snippet 4.14\n",
    "\n",
    "> On veut savoir dans quel sens on met la flèche dans un simple diagramme X -> Y ou X <- Y  \n",
    "> On va effectuer un test d'hypothèse d'indépendance"
   ]
  },
  {
   "cell_type": "code",
   "execution_count": 6,
   "metadata": {},
   "outputs": [
    {
     "name": "stderr",
     "output_type": "stream",
     "text": [
      "Loading required package: nlme\n",
      "This is mgcv 1.8-28. For overview type 'help(\"mgcv-package\")'.\n"
     ]
    },
    {
     "data": {
      "text/html": [
       "0.771228771228771"
      ],
      "text/latex": [
       "0.771228771228771"
      ],
      "text/markdown": [
       "0.771228771228771"
      ],
      "text/plain": [
       "[1] 0.7712288"
      ]
     },
     "metadata": {},
     "output_type": "display_data"
    }
   ],
   "source": [
    "library(dHSIC)\n",
    "library(mgcv)\n",
    "\n",
    "# generate data set\n",
    "set.seed(1)\n",
    "X <- rnorm(200)\n",
    "Y <- X^3 + rnorm(200)\n",
    "\n",
    "# fit models\n",
    "modelforw <- gam(Y ~ s(X))\n",
    "modelbackw <- gam(X ~ s(Y))\n",
    "\n",
    "# Independence tests\n",
    "dhsic.test(modelforw$residuals, X)$p.value"
   ]
  },
  {
   "cell_type": "code",
   "execution_count": 7,
   "metadata": {},
   "outputs": [
    {
     "data": {
      "text/html": [
       "0.00699300699300699"
      ],
      "text/latex": [
       "0.00699300699300699"
      ],
      "text/markdown": [
       "0.00699300699300699"
      ],
      "text/plain": [
       "[1] 0.006993007"
      ]
     },
     "metadata": {},
     "output_type": "display_data"
    }
   ],
   "source": [
    "dhsic.test(modelbackw$residuals, Y)$p.value"
   ]
  },
  {
   "cell_type": "code",
   "execution_count": 8,
   "metadata": {},
   "outputs": [
    {
     "data": {
      "text/html": [
       "0.142006280126033"
      ],
      "text/latex": [
       "0.142006280126033"
      ],
      "text/markdown": [
       "0.142006280126033"
      ],
      "text/plain": [
       "[1] 0.1420063"
      ]
     },
     "metadata": {},
     "output_type": "display_data"
    }
   ],
   "source": [
    "# computing likelihoods\n",
    "- log(var(X)) - log(var(modelforw$residuals))"
   ]
  },
  {
   "cell_type": "code",
   "execution_count": 9,
   "metadata": {},
   "outputs": [
    {
     "data": {
      "text/html": [
       "-1.01401349632063"
      ],
      "text/latex": [
       "-1.01401349632063"
      ],
      "text/markdown": [
       "-1.01401349632063"
      ],
      "text/plain": [
       "[1] -1.014013"
      ]
     },
     "metadata": {},
     "output_type": "display_data"
    }
   ],
   "source": [
    "- log(var(modelbackw$residuals)) - log(var(Y))"
   ]
  },
  {
   "cell_type": "markdown",
   "metadata": {},
   "source": [
    "## Code Snippet 6.4\n"
   ]
  },
  {
   "cell_type": "code",
   "execution_count": 10,
   "metadata": {},
   "outputs": [],
   "source": [
    "# generate a sample from the distribution entailed by the SCM\n",
    "set.seed(1)\n",
    "X3 <- runif(100) - 0.5\n",
    "X1 <- 2*X3 + rnorm(100)\n",
    "X2 <- (0.5*X1)^2 + rnorm(100)^2\n",
    "X4 <- X2 + 2*sin(X3 + rnorm(100))"
   ]
  },
  {
   "cell_type": "code",
   "execution_count": 11,
   "metadata": {},
   "outputs": [
    {
     "data": {
      "text/html": [
       "<ol class=list-inline>\n",
       "\t<li>1.60190639696841</li>\n",
       "\t<li>4.10767886794603</li>\n",
       "</ol>\n"
      ],
      "text/latex": [
       "\\begin{enumerate*}\n",
       "\\item 1.60190639696841\n",
       "\\item 4.10767886794603\n",
       "\\end{enumerate*}\n"
      ],
      "text/markdown": [
       "1. 1.60190639696841\n",
       "2. 4.10767886794603\n",
       "\n",
       "\n"
      ],
      "text/plain": [
       "[1] 1.601906 4.107679"
      ]
     },
     "metadata": {},
     "output_type": "display_data"
    }
   ],
   "source": [
    "c(mean(X4), var(X4))"
   ]
  },
  {
   "cell_type": "markdown",
   "metadata": {},
   "source": [
    "## Code Snippet 6.9\n",
    "\n",
    "We perform an intervention on `code Snippet 6.4` with $do(X_2:=3)$"
   ]
  },
  {
   "cell_type": "code",
   "execution_count": 12,
   "metadata": {},
   "outputs": [],
   "source": [
    "# generate a sample from the intervention distribution\n",
    "set.seed(1)\n",
    "X3 <- runif(100) - 0.5\n",
    "X1 <- 2*X3 + rnorm(100)\n",
    "X2 <- rep(3, 100)\n",
    "X4 <- X2 + 2*sin(X3 + rnorm(100))"
   ]
  },
  {
   "cell_type": "code",
   "execution_count": 13,
   "metadata": {},
   "outputs": [
    {
     "data": {
      "text/html": [
       "<ol class=list-inline>\n",
       "\t<li>3.0475348593393</li>\n",
       "\t<li>1.71838122363557</li>\n",
       "</ol>\n"
      ],
      "text/latex": [
       "\\begin{enumerate*}\n",
       "\\item 3.0475348593393\n",
       "\\item 1.71838122363557\n",
       "\\end{enumerate*}\n"
      ],
      "text/markdown": [
       "1. 3.0475348593393\n",
       "2. 1.71838122363557\n",
       "\n",
       "\n"
      ],
      "text/plain": [
       "[1] 3.047535 1.718381"
      ]
     },
     "metadata": {},
     "output_type": "display_data"
    }
   ],
   "source": [
    "c(mean(X4), var(X4))"
   ]
  },
  {
   "cell_type": "code",
   "execution_count": null,
   "metadata": {},
   "outputs": [],
   "source": []
  },
  {
   "cell_type": "markdown",
   "metadata": {},
   "source": [
    "## Code Snippet 6.43\n",
    "\n",
    "\n",
    "<img src='img.png' width=500px><img src='img2.png' width=250px>\n",
    "\n",
    "\n",
    "On va mettre des coefficients à tous ces edges, le causal effect qu'on veut recover est +2 (see below)\n",
    "On va dire que (-2) x (-1) = 2\n",
    "\n",
    "> Mais en pratique on ne connait que les données et la structure causale"
   ]
  },
  {
   "cell_type": "code",
   "execution_count": 14,
   "metadata": {},
   "outputs": [],
   "source": [
    "n <- 500\n",
    "\n",
    "# generate a sample from the distr. ent. by the SCM\n",
    "set.seed(1)\n",
    "C <- rnorm(n)\n",
    "A <- 0.8*rnorm(n)\n",
    "K <- A + 0.1*rnorm(n)\n",
    "X <- C - 2*A + 0.2*rnorm(n) \n",
    "F <- 3*X + 0.8*rnorm(n)\n",
    "D <- -2*X + 0.5*rnorm(n)\n",
    "G <- D + 0.5*rnorm(n)\n",
    "Y <- 2*K - D + 0.2*rnorm(n)\n",
    "H <- 0.5*Y + 0.1*rnorm(n)"
   ]
  },
  {
   "cell_type": "code",
   "execution_count": 19,
   "metadata": {},
   "outputs": [
    {
     "ename": "ERROR",
     "evalue": "Error in terms.formula(formula, data = data): argument is not a valid model\n",
     "output_type": "error",
     "traceback": [
      "Error in terms.formula(formula, data = data): argument is not a valid model\nTraceback:\n",
      "1. lm(y = Y, X = X)",
      "2. eval(mf, parent.frame())",
      "3. eval(mf, parent.frame())",
      "4. stats::model.frame(drop.unused.levels = TRUE)",
      "5. model.frame.default(drop.unused.levels = TRUE)",
      "6. terms(formula, data = data)",
      "7. terms.formula(formula, data = data)"
     ]
    }
   ],
   "source": [
    "# On voit que la prediction est fortement biaisé (// au 2 qu'on voulait)\n",
    "# Car on a le backdoor path\n",
    "lm(y=Y,X=X)$coefficients"
   ]
  },
  {
   "cell_type": "code",
   "execution_count": 16,
   "metadata": {},
   "outputs": [
    {
     "ename": "ERROR",
     "evalue": "Error in lm.fit(Y ~ X): 'x' must be a matrix\n",
     "output_type": "error",
     "traceback": [
      "Error in lm.fit(Y ~ X): 'x' must be a matrix\nTraceback:\n",
      "1. lm.fit(Y ~ X)",
      "2. stop(\"'x' must be a matrix\")"
     ]
    }
   ],
   "source": [
    "lm.fit(Y ~ X)"
   ]
  },
  {
   "cell_type": "code",
   "execution_count": 31,
   "metadata": {},
   "outputs": [
    {
     "data": {
      "text/html": [
       "<dl class=dl-horizontal>\n",
       "\t<dt>(Intercept)</dt>\n",
       "\t\t<dd>-0.0234261749151032</dd>\n",
       "\t<dt>X</dt>\n",
       "\t\t<dd>2.01335136395207</dd>\n",
       "\t<dt>K</dt>\n",
       "\t\t<dd>1.99520943552093</dd>\n",
       "</dl>\n"
      ],
      "text/latex": [
       "\\begin{description*}\n",
       "\\item[(Intercept)] -0.0234261749151032\n",
       "\\item[X] 2.01335136395207\n",
       "\\item[K] 1.99520943552093\n",
       "\\end{description*}\n"
      ],
      "text/markdown": [
       "(Intercept)\n",
       ":   -0.0234261749151032X\n",
       ":   2.01335136395207K\n",
       ":   1.99520943552093\n",
       "\n"
      ],
      "text/plain": [
       "(Intercept)           X           K \n",
       "-0.02342617  2.01335136  1.99520944 "
      ]
     },
     "metadata": {},
     "output_type": "display_data"
    }
   ],
   "source": [
    "lm(Y~X+K)$coefficients\n"
   ]
  },
  {
   "cell_type": "code",
   "execution_count": 32,
   "metadata": {},
   "outputs": [
    {
     "data": {
      "text/html": [
       "<dl class=dl-horizontal>\n",
       "\t<dt>(Intercept)</dt>\n",
       "\t\t<dd>-0.024069003428909</dd>\n",
       "\t<dt>X</dt>\n",
       "\t\t<dd>1.98769241190667</dd>\n",
       "\t<dt>F</dt>\n",
       "\t\t<dd>-0.0264173654838112</dd>\n",
       "\t<dt>C</dt>\n",
       "\t\t<dd>0.115263563076436</dd>\n",
       "\t<dt>K</dt>\n",
       "\t\t<dd>1.78759472211133</dd>\n",
       "</dl>\n"
      ],
      "text/latex": [
       "\\begin{description*}\n",
       "\\item[(Intercept)] -0.024069003428909\n",
       "\\item[X] 1.98769241190667\n",
       "\\item[F] -0.0264173654838112\n",
       "\\item[C] 0.115263563076436\n",
       "\\item[K] 1.78759472211133\n",
       "\\end{description*}\n"
      ],
      "text/markdown": [
       "(Intercept)\n",
       ":   -0.024069003428909X\n",
       ":   1.98769241190667F\n",
       ":   -0.0264173654838112C\n",
       ":   0.115263563076436K\n",
       ":   1.78759472211133\n",
       "\n"
      ],
      "text/plain": [
       "(Intercept)           X           F           C           K \n",
       "-0.02406900  1.98769241 -0.02641737  0.11526356  1.78759472 "
      ]
     },
     "metadata": {},
     "output_type": "display_data"
    }
   ],
   "source": [
    "lm(Y~X+F+C+K)$coefficients\n"
   ]
  },
  {
   "cell_type": "code",
   "execution_count": 40,
   "metadata": {},
   "outputs": [
    {
     "data": {
      "text/html": [
       "<dl class=dl-horizontal>\n",
       "\t<dt>(Intercept)</dt>\n",
       "\t\t<dd>-0.00118459357344155</dd>\n",
       "\t<dt>X</dt>\n",
       "\t\t<dd>0.118040619637261</dd>\n",
       "\t<dt>F</dt>\n",
       "\t\t<dd>0.009319488586571</dd>\n",
       "\t<dt>C</dt>\n",
       "\t\t<dd>0.0401119215753213</dd>\n",
       "\t<dt>K</dt>\n",
       "\t\t<dd>0.116977787549877</dd>\n",
       "\t<dt>H</dt>\n",
       "\t\t<dd>1.82264476707418</dd>\n",
       "</dl>\n"
      ],
      "text/latex": [
       "\\begin{description*}\n",
       "\\item[(Intercept)] -0.00118459357344155\n",
       "\\item[X] 0.118040619637261\n",
       "\\item[F] 0.009319488586571\n",
       "\\item[C] 0.0401119215753213\n",
       "\\item[K] 0.116977787549877\n",
       "\\item[H] 1.82264476707418\n",
       "\\end{description*}\n"
      ],
      "text/markdown": [
       "(Intercept)\n",
       ":   -0.00118459357344155X\n",
       ":   0.118040619637261F\n",
       ":   0.009319488586571C\n",
       ":   0.0401119215753213K\n",
       ":   0.116977787549877H\n",
       ":   1.82264476707418\n",
       "\n"
      ],
      "text/plain": [
       " (Intercept)            X            F            C            K            H \n",
       "-0.001184594  0.118040620  0.009319489  0.040111922  0.116977788  1.822644767 "
      ]
     },
     "metadata": {},
     "output_type": "display_data"
    }
   ],
   "source": [
    "# On a un biaised estimate car on a mis trop de variable\n",
    "lm(Y~X+F+C+K+H)$coefficients"
   ]
  },
  {
   "cell_type": "markdown",
   "metadata": {},
   "source": [
    "## Code Snippet 7.11\n"
   ]
  },
  {
   "cell_type": "code",
   "execution_count": 45,
   "metadata": {},
   "outputs": [
    {
     "name": "stderr",
     "output_type": "stream",
     "text": [
      "Loading required package: glmnet\n",
      "Loading required package: Matrix\n",
      "Loading required package: foreach\n",
      "Loaded glmnet 2.0-16\n",
      "\n",
      "Loading required package: mboost\n",
      "Loading required package: parallel\n",
      "Loading required package: stabs\n",
      "This is mboost 2.9-1. See ‘package?mboost’ and ‘news(package  = \"mboost\")’\n",
      "for a complete list of changes.\n",
      "\n"
     ]
    },
    {
     "data": {
      "text/plain": [
       "\n",
       "Call:\n",
       "lm(formula = Y ~ -1 + X1 + X2 + X3)\n",
       "\n",
       "Residuals:\n",
       "      Min        1Q    Median        3Q       Max \n",
       "-0.200513 -0.043141  0.003154  0.048571  0.236081 \n",
       "\n",
       "Coefficients:\n",
       "    Estimate Std. Error t value Pr(>|t|)    \n",
       "X1 -0.396212   0.008667  -45.71   <2e-16 ***\n",
       "X2  1.381497   0.021377   64.63   <2e-16 ***\n",
       "X3 -0.410647   0.011152  -36.82   <2e-16 ***\n",
       "---\n",
       "Signif. codes:  0 ‘***’ 0.001 ‘**’ 0.01 ‘*’ 0.05 ‘.’ 0.1 ‘ ’ 1\n",
       "\n",
       "Residual standard error: 0.06938 on 1097 degrees of freedom\n",
       "Multiple R-squared:  0.9831,\tAdjusted R-squared:  0.983 \n",
       "F-statistic: 2.127e+04 on 3 and 1097 DF,  p-value: < 2.2e-16\n"
      ]
     },
     "metadata": {},
     "output_type": "display_data"
    }
   ],
   "source": [
    "library(InvariantCausalPrediction)\n",
    "\n",
    "# generate data from two environments\n",
    "env <- c(rep(1, 400), rep(2, 700))\n",
    "n <- length(env)\n",
    "set.seed(1)\n",
    "X1 <- rnorm(n)\n",
    "X2 <- 1*X1 + c(rep(0.1,400), rep(1.0,700))*rnorm(n)\n",
    "Y <- -0.7*X1 + 0.6*X2 + 0.1*rnorm(n)\n",
    "X3 <- c(rep(-2,400),rep(-1,700))*Y + 2.5*X2 + 0.1*rnorm(n)\n",
    "\n",
    "summary(lm(Y~-1+X1+X2+X3))"
   ]
  },
  {
   "cell_type": "code",
   "execution_count": 46,
   "metadata": {},
   "outputs": [
    {
     "name": "stdout",
     "output_type": "stream",
     "text": [
      "\n",
      " *** 25% complete: tested 2 of 8 sets of variables \n",
      " accepted set of variables 1,2"
     ]
    },
    {
     "data": {
      "text/plain": [
       "\n",
       " Invariant Linear Causal Regression at level 0.01 (including multiplicity correction for the number of variables)\n",
       " Variables: X1, X2 show a significant causal effect\n",
       " \n",
       "     LOWER BOUND  UPPER BOUND  MAXIMIN EFFECT  P-VALUE    \n",
       "X1        -0.71        -0.68           -0.68  1.9e-06 ***\n",
       "X2         0.59         0.61            0.59   0.0046 ** \n",
       "X3         0.00         0.00            0.00   0.1486    \n",
       "---\n",
       "Signif. codes:  0 ‘***’ 0.001 ‘**’ 0.01 ‘*’ 0.05 ‘.’ 0.1 ‘ ’ 1\n",
       "\n"
      ]
     },
     "metadata": {},
     "output_type": "display_data"
    }
   ],
   "source": [
    "ICP(cbind(X1,X2,X3),Y,env)"
   ]
  },
  {
   "cell_type": "code",
   "execution_count": null,
   "metadata": {},
   "outputs": [],
   "source": []
  },
  {
   "cell_type": "code",
   "execution_count": null,
   "metadata": {},
   "outputs": [],
   "source": []
  },
  {
   "cell_type": "code",
   "execution_count": null,
   "metadata": {},
   "outputs": [],
   "source": []
  },
  {
   "cell_type": "code",
   "execution_count": null,
   "metadata": {},
   "outputs": [],
   "source": []
  },
  {
   "cell_type": "code",
   "execution_count": null,
   "metadata": {},
   "outputs": [],
   "source": []
  },
  {
   "cell_type": "code",
   "execution_count": null,
   "metadata": {},
   "outputs": [],
   "source": []
  },
  {
   "cell_type": "code",
   "execution_count": null,
   "metadata": {},
   "outputs": [],
   "source": []
  },
  {
   "cell_type": "code",
   "execution_count": null,
   "metadata": {},
   "outputs": [],
   "source": []
  }
 ],
 "metadata": {
  "kernelspec": {
   "display_name": "R",
   "language": "R",
   "name": "ir"
  },
  "language_info": {
   "codemirror_mode": "r",
   "file_extension": ".r",
   "mimetype": "text/x-r-source",
   "name": "R",
   "pygments_lexer": "r",
   "version": "3.6.0"
  }
 },
 "nbformat": 4,
 "nbformat_minor": 2
}
